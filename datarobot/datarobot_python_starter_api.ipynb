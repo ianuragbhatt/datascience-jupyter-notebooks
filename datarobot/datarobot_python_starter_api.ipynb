{
  "nbformat": 4,
  "nbformat_minor": 0,
  "metadata": {
    "kernelspec": {
      "display_name": "Python 3",
      "language": "python",
      "name": "python3"
    },
    "language_info": {
      "codemirror_mode": {
        "name": "ipython",
        "version": 3
      },
      "file_extension": ".py",
      "mimetype": "text/x-python",
      "name": "python",
      "nbconvert_exporter": "python",
      "pygments_lexer": "ipython3",
      "version": "3.9.5"
    },
    "toc": {
      "base_numbering": 1,
      "nav_menu": {},
      "number_sections": true,
      "sideBar": true,
      "skip_h1_title": false,
      "title_cell": "Table of Contents",
      "title_sidebar": "Contents",
      "toc_cell": false,
      "toc_position": {},
      "toc_section_display": true,
      "toc_window_display": false
    },
    "colab": {
      "name": "datarobot_python_starter_API.ipynb",
      "provenance": []
    }
  },
  "cells": [
    {
      "cell_type": "markdown",
      "metadata": {
        "id": "l39T1rfkFwYz"
      },
      "source": [
        "### Installing datarobot client and loading dataset from google drive"
      ]
    },
    {
      "cell_type": "code",
      "metadata": {
        "id": "sF3wk0nJoqX9"
      },
      "source": [
        "# installing datarobot client\n",
        "!pip install datarobot"
      ],
      "execution_count": null,
      "outputs": []
    },
    {
      "cell_type": "code",
      "metadata": {
        "id": "sErLJYt4phT5"
      },
      "source": [
        "# loading dataset from google colab\n",
        "from google.colab import drive\n",
        "drive.mount('/content/drive')"
      ],
      "execution_count": null,
      "outputs": []
    },
    {
      "cell_type": "markdown",
      "metadata": {
        "id": "-s44iSA5cHOO"
      },
      "source": [
        "### Configure application credentials"
      ]
    },
    {
      "cell_type": "markdown",
      "metadata": {
        "id": "JSYHB8A1cHOP"
      },
      "source": [
        "To use Python with DataRobot, you first need to establish a connection between your application or notebook and the DataRobot server. This requires your credentials, consisting of a DataRobot application *endpoint* URL and the *API access token* for your DataRobot account.\n",
        "\n",
        "* To retrieve your access token, log into your DataRobot application account, and then select **Profile Settings** (top right icon) -> **Developer Tools**. Create a new API token here if you haven't created one already.\n",
        "\n",
        "* Your [endpoint](https://api-docs.datarobot.com/docs/guide-to-different-datarobot-endpoints) URL depends on the type of your DataRobot account:\n",
        "\n",
        "    * Use `https://app.datarobot.com/api/v2` if you have a US **Managed AI Cloud** account\n",
        "\n",
        "    * Use `https://app.eu.datarobot.com/api/v2` if you have a European **Managed AI Cloud** account\n",
        "    \n",
        "    * Use `https://app2.datarobot.com/api/v2` if you have a **trial or pay-as-you-go** account\n",
        "    \n",
        "    * If you are on a **self-managed or on-premises system**, find the host name you use to access your DataRobot account and use `https://your-host-name/api/v2`\n",
        "\n",
        "You can specify your credentials in [a number of ways](https://datarobot-public-api-client.readthedocs-hosted.com/en/v2.25.0/setup/getting_started.html#credentials). For this activity, specify them in the provided file called `drconfig.yaml`, which should be in the same directory as this Jupyter notebook.\n",
        "\n",
        "The `.yaml` file is a text file containing two lines. Edit the file to add your credentials and save the file.\n",
        "\n",
        "`token: YOUR_API_TOKEN`  \n",
        "`endpoint: YOUR_ENDPOINT`\n"
      ]
    },
    {
      "cell_type": "markdown",
      "metadata": {
        "id": "4QDR9ruycHOR"
      },
      "source": [
        "### Connect the application or notebook to DataRobot"
      ]
    },
    {
      "cell_type": "markdown",
      "metadata": {
        "id": "8jcxMH3McHOR"
      },
      "source": [
        "The DataRobot Python API package is called `datarobot`. Take a look at the [API documentation](https://datarobot-public-api-client.readthedocs-hosted.com/en/v2.25.0/index.html) now. Keep this page open so that you can refer to the documentation throughout the lesson.\n",
        "\n",
        "For convenience, import it using the identifier `dr`."
      ]
    },
    {
      "cell_type": "code",
      "metadata": {
        "code_folding": [],
        "id": "aLhD19ZvcHOS"
      },
      "source": [
        "import datarobot as dr"
      ],
      "execution_count": 4,
      "outputs": []
    },
    {
      "cell_type": "markdown",
      "metadata": {
        "id": "yA4nB49ZcHOS"
      },
      "source": [
        "In order for your client to connect to DataRobot, you need to [create and configure](https://datarobot-public-api-client.readthedocs-hosted.com/en/v2.25.0/setup/configuration.html) a global `Client` object, which will be used by any Python Client API calls that need to connect to the DataRobot server. "
      ]
    },
    {
      "cell_type": "markdown",
      "metadata": {
        "id": "V4wSM9eocHOT"
      },
      "source": [
        "**Tip**: To learn more about any Python object, property or method, you can use the Jupyter's tab completion functionality. Try this now: type `dr.Client` and enter `SHIFT+TAB+TAB` (that is, hold the `SHIFT` key while you press the `TAB` key twice). This will pop up a window with details about how to configure the client. Click anywhere outside of the window to close it."
      ]
    },
    {
      "cell_type": "code",
      "metadata": {
        "colab": {
          "base_uri": "https://localhost:8080/"
        },
        "id": "9ptgTukAcHOT",
        "outputId": "c84edf10-0169-42e5-90ee-65a9e3f4e326"
      },
      "source": [
        "dr.Client"
      ],
      "execution_count": 5,
      "outputs": [
        {
          "output_type": "execute_result",
          "data": {
            "text/plain": [
              "<function datarobot.client.Client>"
            ]
          },
          "metadata": {},
          "execution_count": 5
        }
      ]
    },
    {
      "cell_type": "markdown",
      "metadata": {
        "id": "JfK1wp6mcHOU"
      },
      "source": [
        "Now create a new `Client` object based on the credentials in the configuration YAML file you edited above."
      ]
    },
    {
      "cell_type": "code",
      "metadata": {
        "code_folding": [],
        "colab": {
          "base_uri": "https://localhost:8080/"
        },
        "id": "M852NEp2cHOV",
        "outputId": "222e606a-b4a5-4b0b-9f3c-79bf26a9d27a"
      },
      "source": [
        "dr.Client(config_path = 'drconfig.yaml')"
      ],
      "execution_count": 6,
      "outputs": [
        {
          "output_type": "execute_result",
          "data": {
            "text/plain": [
              "<datarobot.rest.RESTClientObject at 0x7fc0a4cdfed0>"
            ]
          },
          "metadata": {},
          "execution_count": 6
        }
      ]
    },
    {
      "cell_type": "markdown",
      "metadata": {
        "id": "KN-SMgJPcHOW"
      },
      "source": [
        "***"
      ]
    },
    {
      "cell_type": "markdown",
      "metadata": {
        "id": "kHLrUQ4FcHOX"
      },
      "source": [
        "## Training Models"
      ]
    },
    {
      "cell_type": "markdown",
      "metadata": {
        "id": "0RYzOAl3cHOX"
      },
      "source": [
        "### Explore the training data using [pandas](https://pandas.pydata.org/)"
      ]
    },
    {
      "cell_type": "markdown",
      "metadata": {
        "id": "XRG1xIuEcHOY"
      },
      "source": [
        "This activity uses the Python `pandas` data analysis package. You do not have to use `pandas` to use the DataRobot Python API, but it is a convenient way to work with datasets, so we will use it here."
      ]
    },
    {
      "cell_type": "code",
      "metadata": {
        "code_folding": [],
        "id": "yO-wYhOxcHOY"
      },
      "source": [
        "import pandas as pd"
      ],
      "execution_count": 7,
      "outputs": []
    },
    {
      "cell_type": "markdown",
      "metadata": {
        "id": "KNj3n2NucHOY"
      },
      "source": [
        "Create a pandas DataFrame based on the wine quality training dataset we've provided and view the first few rows."
      ]
    },
    {
      "cell_type": "code",
      "metadata": {
        "code_folding": [],
        "colab": {
          "base_uri": "https://localhost:8080/",
          "height": 221
        },
        "id": "pZ8y-FhncHOY",
        "outputId": "788bd7c6-2e9a-43db-fe25-160b61107b46"
      },
      "source": [
        "trainingData = pd.read_csv('winequality-white-training.csv')\n",
        "trainingData.head()"
      ],
      "execution_count": 8,
      "outputs": [
        {
          "output_type": "execute_result",
          "data": {
            "text/html": [
              "<div>\n",
              "<style scoped>\n",
              "    .dataframe tbody tr th:only-of-type {\n",
              "        vertical-align: middle;\n",
              "    }\n",
              "\n",
              "    .dataframe tbody tr th {\n",
              "        vertical-align: top;\n",
              "    }\n",
              "\n",
              "    .dataframe thead th {\n",
              "        text-align: right;\n",
              "    }\n",
              "</style>\n",
              "<table border=\"1\" class=\"dataframe\">\n",
              "  <thead>\n",
              "    <tr style=\"text-align: right;\">\n",
              "      <th></th>\n",
              "      <th>fixed acidity</th>\n",
              "      <th>volatile acidity</th>\n",
              "      <th>citric acid</th>\n",
              "      <th>residual sugar</th>\n",
              "      <th>chlorides</th>\n",
              "      <th>free sulfur dioxide</th>\n",
              "      <th>total sulfur dioxide</th>\n",
              "      <th>density</th>\n",
              "      <th>pH</th>\n",
              "      <th>sulphates</th>\n",
              "      <th>alcohol</th>\n",
              "      <th>quality</th>\n",
              "    </tr>\n",
              "  </thead>\n",
              "  <tbody>\n",
              "    <tr>\n",
              "      <th>0</th>\n",
              "      <td>7.0</td>\n",
              "      <td>0.27</td>\n",
              "      <td>0.36</td>\n",
              "      <td>20.7</td>\n",
              "      <td>0.045</td>\n",
              "      <td>45.0</td>\n",
              "      <td>170.0</td>\n",
              "      <td>1.0010</td>\n",
              "      <td>3.00</td>\n",
              "      <td>0.45</td>\n",
              "      <td>8.8</td>\n",
              "      <td>6</td>\n",
              "    </tr>\n",
              "    <tr>\n",
              "      <th>1</th>\n",
              "      <td>6.3</td>\n",
              "      <td>0.30</td>\n",
              "      <td>0.34</td>\n",
              "      <td>1.6</td>\n",
              "      <td>0.049</td>\n",
              "      <td>14.0</td>\n",
              "      <td>132.0</td>\n",
              "      <td>0.9940</td>\n",
              "      <td>3.30</td>\n",
              "      <td>0.49</td>\n",
              "      <td>9.5</td>\n",
              "      <td>6</td>\n",
              "    </tr>\n",
              "    <tr>\n",
              "      <th>2</th>\n",
              "      <td>8.1</td>\n",
              "      <td>0.28</td>\n",
              "      <td>0.40</td>\n",
              "      <td>6.9</td>\n",
              "      <td>0.050</td>\n",
              "      <td>30.0</td>\n",
              "      <td>97.0</td>\n",
              "      <td>0.9951</td>\n",
              "      <td>3.26</td>\n",
              "      <td>0.44</td>\n",
              "      <td>10.1</td>\n",
              "      <td>6</td>\n",
              "    </tr>\n",
              "    <tr>\n",
              "      <th>3</th>\n",
              "      <td>7.2</td>\n",
              "      <td>0.23</td>\n",
              "      <td>0.32</td>\n",
              "      <td>8.5</td>\n",
              "      <td>0.058</td>\n",
              "      <td>47.0</td>\n",
              "      <td>186.0</td>\n",
              "      <td>0.9956</td>\n",
              "      <td>3.19</td>\n",
              "      <td>0.40</td>\n",
              "      <td>9.9</td>\n",
              "      <td>6</td>\n",
              "    </tr>\n",
              "    <tr>\n",
              "      <th>4</th>\n",
              "      <td>7.2</td>\n",
              "      <td>0.23</td>\n",
              "      <td>0.32</td>\n",
              "      <td>8.5</td>\n",
              "      <td>0.058</td>\n",
              "      <td>47.0</td>\n",
              "      <td>186.0</td>\n",
              "      <td>0.9956</td>\n",
              "      <td>3.19</td>\n",
              "      <td>0.40</td>\n",
              "      <td>9.9</td>\n",
              "      <td>6</td>\n",
              "    </tr>\n",
              "  </tbody>\n",
              "</table>\n",
              "</div>"
            ],
            "text/plain": [
              "   fixed acidity  volatile acidity  citric acid  ...  sulphates  alcohol  quality\n",
              "0            7.0              0.27         0.36  ...       0.45      8.8        6\n",
              "1            6.3              0.30         0.34  ...       0.49      9.5        6\n",
              "2            8.1              0.28         0.40  ...       0.44     10.1        6\n",
              "3            7.2              0.23         0.32  ...       0.40      9.9        6\n",
              "4            7.2              0.23         0.32  ...       0.40      9.9        6\n",
              "\n",
              "[5 rows x 12 columns]"
            ]
          },
          "metadata": {},
          "execution_count": 8
        }
      ]
    },
    {
      "cell_type": "markdown",
      "metadata": {
        "id": "m0_mh6AmcHOY"
      },
      "source": [
        "---"
      ]
    },
    {
      "cell_type": "markdown",
      "metadata": {
        "id": "UnYOYSKKcHOZ"
      },
      "source": [
        "### Start a project\n"
      ]
    },
    {
      "cell_type": "markdown",
      "metadata": {
        "id": "tku5yXBmcHOZ"
      },
      "source": [
        "A [`Project`](https://datarobot-public-api-client.readthedocs-hosted.com/en/v2.25.0/entities/project.html) object contains a dataset as well as the models trained from that dataset. You need a project before you can build a model.\n",
        "\n",
        "Every project requires a name. Here we set a project name that includes the creation date  a project to help easily distinguish projects from one another. \n"
      ]
    },
    {
      "cell_type": "code",
      "metadata": {
        "code_folding": [],
        "colab": {
          "base_uri": "https://localhost:8080/",
          "height": 35
        },
        "id": "BxTSqkI7cHOZ",
        "outputId": "72c81d22-eafa-49a0-de71-3005d9968f54"
      },
      "source": [
        "from datetime import date\n",
        "projectName = 'Python wine quality ' + date.today().strftime(format = \"%Y-%m-%d\")\n",
        "projectName"
      ],
      "execution_count": 9,
      "outputs": [
        {
          "output_type": "execute_result",
          "data": {
            "application/vnd.google.colaboratory.intrinsic+json": {
              "type": "string"
            },
            "text/plain": [
              "'Python wine quality 2021-11-17'"
            ]
          },
          "metadata": {},
          "execution_count": 9
        }
      ]
    },
    {
      "cell_type": "markdown",
      "metadata": {
        "id": "K4DLc8T8cHOZ"
      },
      "source": [
        "There are a number of ways to create a project. Here we use the `Project.create` method, passing the DataFrame created above and the name. When you create a project, it uploads the dataset to DataRobot and performs the initial [exploratory data analysis](https://app.datarobot.com/docs/modeling/reference/model-detail/eda-explained.html#eda1); the operation may take a minute to complete. \n",
        "\n",
        "**Tip**: position the cursor after `dr.Project` and use `SHIFT+TAB+TAB` to view the various attributes of a `Project` object."
      ]
    },
    {
      "cell_type": "code",
      "metadata": {
        "code_folding": [],
        "colab": {
          "base_uri": "https://localhost:8080/"
        },
        "id": "EAUREXcncHOa",
        "outputId": "1833b347-6da1-4809-bc80-51ee462ea7fd"
      },
      "source": [
        "project = dr.Project.create (\n",
        "    sourcedata = trainingData,\n",
        "    project_name = projectName\n",
        ")\n",
        "\n",
        "print(project.id, project.project_name)"
      ],
      "execution_count": 10,
      "outputs": [
        {
          "output_type": "stream",
          "name": "stdout",
          "text": [
            "6194e7b6430565f5e943de01 Python wine quality 2021-11-17\n"
          ]
        }
      ]
    },
    {
      "cell_type": "code",
      "metadata": {
        "colab": {
          "base_uri": "https://localhost:8080/",
          "height": 35
        },
        "id": "3M1jLOm3E7XO",
        "outputId": "5f2a33d5-3c98-4781-a11b-f06dc4790e2d"
      },
      "source": [
        "# we have already created a project so we will load it\n",
        "project = dr.Project.get(project_id='6194e7b6430565f5e943de01')\n",
        "project.project_name"
      ],
      "execution_count": 11,
      "outputs": [
        {
          "output_type": "execute_result",
          "data": {
            "application/vnd.google.colaboratory.intrinsic+json": {
              "type": "string"
            },
            "text/plain": [
              "'Python wine quality 2021-11-17'"
            ]
          },
          "metadata": {},
          "execution_count": 11
        }
      ]
    },
    {
      "cell_type": "markdown",
      "metadata": {
        "id": "NvZRAHcHcHOa"
      },
      "source": [
        "*Optional*: Log in to the DataRobot web UI and confirm the new project is shown in the list of projects. (Use https://app.datarobot.com/manage-projects for a Managed AI Cloud account or https://app2.datarobot.com/manage-projects for a trial or pay-as-you-go account). If you leave this page open, you can return to it to view and verify the results of your work using the API."
      ]
    },
    {
      "cell_type": "markdown",
      "metadata": {
        "id": "e3lA-0v7cHOa"
      },
      "source": [
        "`Project` objects give you many ways to explore and interact with projects and datasets. Going into depth on these capabilities is beyond the scope of this activity, but as an example, try viewing the project's list of features."
      ]
    },
    {
      "cell_type": "code",
      "metadata": {
        "colab": {
          "base_uri": "https://localhost:8080/"
        },
        "id": "OnGtlog4cHOa",
        "outputId": "43315b74-5e9b-440c-b094-74cc2ed64aae"
      },
      "source": [
        "project.get_features()"
      ],
      "execution_count": 12,
      "outputs": [
        {
          "output_type": "execute_result",
          "data": {
            "text/plain": [
              "[Feature(alcohol),\n",
              " Feature(chlorides),\n",
              " Feature(citric acid),\n",
              " Feature(density),\n",
              " Feature(fixed acidity),\n",
              " Feature(free sulfur dioxide),\n",
              " Feature(pH),\n",
              " Feature(quality),\n",
              " Feature(residual sugar),\n",
              " Feature(sulphates),\n",
              " Feature(total sulfur dioxide),\n",
              " Feature(volatile acidity)]"
            ]
          },
          "metadata": {},
          "execution_count": 12
        }
      ]
    },
    {
      "cell_type": "markdown",
      "metadata": {
        "id": "vIqqUravcHOa"
      },
      "source": [
        "----"
      ]
    },
    {
      "cell_type": "markdown",
      "metadata": {
        "id": "8Q76WkrlcHOb"
      },
      "source": [
        "### Build models for the project"
      ]
    },
    {
      "cell_type": "markdown",
      "metadata": {
        "id": "g0tR-i1JcHOb"
      },
      "source": [
        "Now that you have the data uploaded, you can start DataRobot Autopilot to perform the [second round of exploratory data analysis](https://app.datarobot.com/docs/modeling/reference/model-detail/eda-explained.html#eda2) and train an [initial set of models](https://app.datarobot.com/docs/tutorials/creating-ai-models/tut-model-mode.html#autopilot). \n",
        "\n",
        "There are a number of ways to do this. Here we use `.set_target()` method.\n",
        "This tells DataRobot which feature to use as the target feature -- that is, the feature the models will predict.\n",
        "By default, this starts Autopilot using \"quick\" mode, which builds a limited set of common models based\n",
        "on the informative features of the data.\n",
        "\n",
        "Autopilot runs asynchronously. It takes about a minute to kick off Autopilot, after which the API call will return, but Autopilot keeps running."
      ]
    },
    {
      "cell_type": "code",
      "metadata": {
        "colab": {
          "base_uri": "https://localhost:8080/"
        },
        "id": "pM_75cPBcHOb",
        "outputId": "83293d93-4323-4241-ed07-52f546b4d084"
      },
      "source": [
        "project.set_target(target = 'quality')"
      ],
      "execution_count": 12,
      "outputs": [
        {
          "output_type": "execute_result",
          "data": {
            "text/plain": [
              "Project(Python wine quality 2021-11-17)"
            ]
          },
          "metadata": {},
          "execution_count": 12
        }
      ]
    },
    {
      "cell_type": "markdown",
      "metadata": {
        "id": "fEjt-BNQcHOc"
      },
      "source": [
        "_Optional_: Open the project in the DataRobot web UI and click the **Models** tab. This will display the models that have been built so far and show the Autopilot status on the right."
      ]
    },
    {
      "cell_type": "markdown",
      "metadata": {
        "id": "kP82dC0-cHOc"
      },
      "source": [
        "\n",
        "You can track the Autopilot process in your notebook using `wait_for_autopilot`, which blocks the application until the models are complete.\n",
        "\n",
        "The process can take a while.\n",
        "While you are waiting, _go back to the main course content_, and we'll meet back here in about 15 minutes."
      ]
    },
    {
      "cell_type": "code",
      "metadata": {
        "colab": {
          "base_uri": "https://localhost:8080/"
        },
        "id": "4mUJqmQVcHOc",
        "outputId": "878977be-9e05-4db8-a2b2-0bec7fb63229"
      },
      "source": [
        "project.wait_for_autopilot()"
      ],
      "execution_count": 13,
      "outputs": [
        {
          "output_type": "stream",
          "name": "stdout",
          "text": [
            "In progress: 0, queued: 0 (waited: 0s)\n"
          ]
        }
      ]
    },
    {
      "cell_type": "markdown",
      "metadata": {
        "id": "-kLSs8a5cHOc"
      },
      "source": [
        "*Optional*: While you wait, view the project in the Web UI and select **Models**, where can see the models that have been built so far as they complete."
      ]
    },
    {
      "cell_type": "markdown",
      "metadata": {
        "id": "ovGYyDVwcHOc"
      },
      "source": [
        "---"
      ]
    },
    {
      "cell_type": "markdown",
      "metadata": {
        "id": "-27TgSe1KtUR"
      },
      "source": [
        "# DataRobot Python API Starter Activity \n",
        "# Part 2 — Predictions"
      ]
    },
    {
      "cell_type": "markdown",
      "metadata": {
        "id": "ZsncAOnvKtUT"
      },
      "source": [
        "## Pre-requisites\n"
      ]
    },
    {
      "cell_type": "markdown",
      "metadata": {
        "id": "UlNUw3vbKtUU"
      },
      "source": [
        "*Before starting this activity (Part 2), be sure to complete Part 1 (including waiting for Autopilot to complete).*\n",
        "    \n"
      ]
    },
    {
      "cell_type": "markdown",
      "metadata": {
        "id": "MDxUsnFiKtUV"
      },
      "source": [
        "## Part 2 Objectives"
      ]
    },
    {
      "cell_type": "markdown",
      "metadata": {
        "id": "kgSBV6xhKtUV"
      },
      "source": [
        "In Part 1 of this activity, you:\n",
        "- Created a project based on a dataset containing wine quality ratings\n",
        "- Ran autopilot to generate a set of models based on the data\n",
        "\n",
        "In Part 2, you will:\n",
        "- Deploy the model recommended by DataRobot\n",
        "- Request wine quality predictions in batch and real-time modes\n",
        "\n",
        "The goal in this activity is to predict the quality rating for a particular wine based on various characteristics of the wine, such as its acidity and alcohol and sugar content.\n",
        "\n",
        "The wine data comes from the University of California, Irvine Machine Learning Repository: https://archive.ics.uci.edu/ml/datasets/wine+quality. \n",
        "\n",
        "Citation: *P. Cortez, A. Cerdeira, F. Almeida, T. Matos and J. Reis.\n",
        "Modeling wine preferences by data mining from physicochemical properties. In Decision Support Systems, Elsevier, 47(4):547-553, 2009.*"
      ]
    },
    {
      "cell_type": "markdown",
      "metadata": {
        "id": "14MTpskSKtUW"
      },
      "source": [
        "---"
      ]
    },
    {
      "cell_type": "markdown",
      "metadata": {
        "id": "ObECV3UUKtUe"
      },
      "source": [
        "## Viewing and Deploying Models "
      ]
    },
    {
      "cell_type": "markdown",
      "metadata": {
        "id": "LWRin-DYKtUe"
      },
      "source": [
        "### Retrieve the recommended model for the project"
      ]
    },
    {
      "cell_type": "markdown",
      "metadata": {
        "id": "1S0yS_2MKtUe"
      },
      "source": [
        "When `wait_for_autopilot()` returns, Autopilot has trained an initial set of models in the project. Because you are working in a separate notebook from the one where you started the project, you need to request a reference to the project created from DataRobot.\n",
        "\n",
        "There are a number of ways to get a handle to your project. For example:\n",
        "\n",
        "- You can go to the DataRobot application UI, open the project, and extract the project ID from the URL. For example:\n",
        "    - `app.datarobot.com/projects/`**`60faf10710c1574209c6ddb0`**`/models`\n",
        "    \n",
        "\n",
        "- You can get a list of all of your projects using `Project.list()` and find the right one by name. Try that now:\n",
        "    "
      ]
    },
    {
      "cell_type": "code",
      "metadata": {
        "ExecuteTime": {
          "end_time": "2021-07-29T17:52:47.069300Z",
          "start_time": "2021-07-29T17:52:46.328933Z"
        },
        "id": "26V6YC8OKtUf"
      },
      "source": [
        "for p in dr.Project.list():\n",
        "    print (p.id, p.project_name)"
      ],
      "execution_count": null,
      "outputs": []
    },
    {
      "cell_type": "markdown",
      "metadata": {
        "id": "oX8nPC_eKtUf"
      },
      "source": [
        "Using the ID, you can get the right `Project` object."
      ]
    },
    {
      "cell_type": "code",
      "metadata": {
        "id": "OScwrduvKtUg"
      },
      "source": [
        "projectId = 'your-project-id'\n",
        "project = dr.Project.get(projectId)\n",
        "print(project)"
      ],
      "execution_count": null,
      "outputs": []
    },
    {
      "cell_type": "markdown",
      "metadata": {
        "id": "TivrhbSsKtUg"
      },
      "source": [
        "A DataRobot Client API `Model` object represents a model calculated by DataRobot.\n",
        "The `Model` class provides numerous ways to evaluate, interact with and test models.\n",
        "Most of those are beyond the scope of this activity.\n",
        "\n",
        "For now, just get an array of `Model` objects representing all the project's models built by Autopilot earlier."
      ]
    },
    {
      "cell_type": "code",
      "metadata": {
        "ExecuteTime": {
          "end_time": "2021-07-29T17:52:56.330948Z",
          "start_time": "2021-07-29T17:52:55.154791Z"
        },
        "id": "rDpZhK9AKtUh",
        "colab": {
          "base_uri": "https://localhost:8080/"
        },
        "outputId": "198d3080-afa3-486d-abd8-6bb0678d9ccc"
      },
      "source": [
        "models = project.get_models()\n",
        "for m in models:\n",
        "    print(m.id,m.model_type)"
      ],
      "execution_count": 14,
      "outputs": [
        {
          "output_type": "stream",
          "name": "stdout",
          "text": [
            "6194ea2520596cfc64d0e8c0 RandomForest Regressor\n",
            "6194e8e38d412dfa379cc98d RandomForest Regressor\n",
            "6194ea531cea9a6c169cc9a4 AVG Blender\n",
            "6194e9bc630dbdcf5cd0e8c3 RandomForest Regressor\n",
            "6194e8e38d412dfa379cc98f Light Gradient Boosted Trees Regressor with Early Stopping\n",
            "6194e9f39e8dc9cac39cc99a RandomForest Regressor\n",
            "6194e8e38d412dfa379cc990 eXtreme Gradient Boosted Trees Regressor\n",
            "6194e8e38d412dfa379cc98e Light Gradient Boosting on ElasticNet Predictions \n",
            "6194e88f4c3a645fc36d7600 RandomForest Regressor\n",
            "6194e8904c3a645fc36d7604 Light Gradient Boosting on ElasticNet Predictions \n",
            "6194e8904c3a645fc36d7603 Light Gradient Boosted Trees Regressor with Early Stopping\n",
            "6194ea501cea9a6c169cc99d RandomForest Regressor\n",
            "6194e88f4c3a645fc36d75fd eXtreme Gradient Boosted Trees Regressor\n",
            "6194e8904c3a645fc36d7602 RuleFit Regressor\n",
            "6194e88f4c3a645fc36d75fc Keras Slim Residual Neural Network Regressor using Training Schedule (1 Layer: 64 Units)\n",
            "6194e88f4c3a645fc36d7601 Generalized Additive2 Model\n",
            "6194e88f4c3a645fc36d75fe Ridge Regressor\n",
            "6194e88f4c3a645fc36d75ff Elastic-Net Regressor (mixing alpha=0.5 / Least-Squares Loss)\n"
          ]
        }
      ]
    },
    {
      "cell_type": "markdown",
      "metadata": {
        "id": "WuISNwxOKtUh"
      },
      "source": [
        "Evaluating and comparing the various characteristics of the models and choosing one to deploy is beyond the scope of this activity. \n",
        "\n",
        "Instead, use the \"recommended model\" chosen automatically by DataRobot."
      ]
    },
    {
      "cell_type": "code",
      "metadata": {
        "ExecuteTime": {
          "end_time": "2021-07-29T17:53:03.037118Z",
          "start_time": "2021-07-29T17:53:02.282779Z"
        },
        "id": "unOfyyR_KtUh",
        "colab": {
          "base_uri": "https://localhost:8080/"
        },
        "outputId": "8bf1f7be-b1d7-474b-d748-72ac234113a4"
      },
      "source": [
        "recommendedModel = dr.ModelRecommendation.get(project.id).get_model()\n",
        "print (recommendedModel.id,recommendedModel.model_type)"
      ],
      "execution_count": 15,
      "outputs": [
        {
          "output_type": "stream",
          "name": "stdout",
          "text": [
            "6194ea2520596cfc64d0e8c0 RandomForest Regressor\n"
          ]
        }
      ]
    },
    {
      "cell_type": "markdown",
      "metadata": {
        "id": "cmfqac2QKtUi"
      },
      "source": [
        "Note that when using Autopilot in \"quick\" mode, the recommended model is already [prepared for deployment](https://app.datarobot.com/docs/modeling/reference/model-detail/model-rec-process.html#prepare-a-model-for-deployment), meaning that it has been trained on the validation and holdout datasets in addition to the initial training dataset sample."
      ]
    },
    {
      "cell_type": "markdown",
      "metadata": {
        "id": "BpMIP6jpKtUj"
      },
      "source": [
        "----"
      ]
    },
    {
      "cell_type": "markdown",
      "metadata": {
        "id": "ky_7rloRKtUk"
      },
      "source": [
        "### Deploy the recommended model"
      ]
    },
    {
      "cell_type": "markdown",
      "metadata": {
        "id": "9N4I_yX6KtUk"
      },
      "source": [
        "Now that you have selected a model (the recommended model, in this case), the next step is to deploy it to a prediction server. This makes it available to do real-time or batch predictions. \n",
        "\n",
        "This operation is different depending on whether you are using a trial or pay-as-you-go account, full Managed AI Cloud account, or an on-premises/self-managed DataRobot installation. "
      ]
    },
    {
      "cell_type": "markdown",
      "metadata": {
        "id": "gs_lLMytKtUl"
      },
      "source": [
        "* **Managed AI Cloud Accounts** and **self-managed DataRobot installations**: for full (as opposed to trial) accounts, you must specify a default prediction server. Select one from the list of available predictions servers provided by your DataRobot account. In this example, the list will contain only a single prediction server."
      ]
    },
    {
      "cell_type": "code",
      "metadata": {
        "id": "wqZtJphIKtUl"
      },
      "source": [
        "predictionServer = dr.PredictionServer.list()[0]\n",
        "\n",
        "deployment = dr.Deployment.create_from_learning_model(\n",
        "    model_id=recommendedModel.id, \n",
        "    label='Wine Quality',\n",
        "    description='Model for scoring wine quality',\n",
        "    default_prediction_server_id=predictionServer.id\n",
        ")\n"
      ],
      "execution_count": 18,
      "outputs": []
    },
    {
      "cell_type": "markdown",
      "metadata": {
        "id": "LCsM1bRGKtUl"
      },
      "source": [
        "- With **Trial or pay-as-you-go accounts** you don't specify a prediction server when deploying."
      ]
    },
    {
      "cell_type": "code",
      "metadata": {
        "ExecuteTime": {
          "end_time": "2021-07-29T17:53:12.595771Z",
          "start_time": "2021-07-29T17:53:10.987093Z"
        },
        "id": "dPUfeAtgKtUm"
      },
      "source": [
        "deployment = dr.Deployment.create_from_learning_model(\n",
        "    model_id=recommendedModel.id, \n",
        "    label='Wine Quality',\n",
        "    description='Model for scoring wine quality'\n",
        ")"
      ],
      "execution_count": null,
      "outputs": []
    },
    {
      "cell_type": "markdown",
      "metadata": {
        "id": "IVn_IXDZKtUm"
      },
      "source": [
        "## Requesting Predictions"
      ]
    },
    {
      "cell_type": "markdown",
      "metadata": {
        "id": "uVSOCZ4wKtUm"
      },
      "source": [
        "For this activity, we have provided you with a small test dataset containing wines and their feature values. You will practice scoring this data to predict the `quality` target using the batch prediction method and the realtime prediction method.\n",
        "\n",
        "Review the data in the `winequality-white-score.csv` file."
      ]
    },
    {
      "cell_type": "markdown",
      "metadata": {
        "id": "x_HglZk0KtUm"
      },
      "source": [
        "### Request batch predictions"
      ]
    },
    {
      "cell_type": "markdown",
      "metadata": {
        "id": "rApYpSeGKtUm"
      },
      "source": [
        "Start a prediction job that passes in the scoring data from the provided data file, and saves the predictions to a local file called `winequality-white-predictions.csv`.\n",
        "\n",
        "A \"passthrough column\" allows you to pass a column value to the prediction engine, which will be included unchanged in the output. In this example, including a unique ID for each wine allows you to easily correlate rows in the scoring dataset with rows in the predictions output.\n",
        "\n",
        "The prediction job might take a minute or so."
      ]
    },
    {
      "cell_type": "code",
      "metadata": {
        "id": "m3CBHTYCKtUn"
      },
      "source": [
        "job = dr.BatchPredictionJob.score (\n",
        "    deployment=deployment.id,\n",
        "    passthrough_columns=['wine_id'],\n",
        "    intake_settings={\n",
        "        'type': 'localFile',\n",
        "        'file': 'winequality-white-score.csv'\n",
        "    },\n",
        "    output_settings={\n",
        "        'type': 'localFile',\n",
        "        'path': 'winequality-white-predictions.csv'\n",
        "    }\n",
        ")"
      ],
      "execution_count": 20,
      "outputs": []
    },
    {
      "cell_type": "markdown",
      "metadata": {
        "id": "hKFQ83EuKtUo"
      },
      "source": [
        "View the output file `winequality-white-predictions.csv` using the `cat` command on Linux or Mac, or `type` on Windows.\n",
        "\n",
        "**Note**: If your account has the [Model Deployment Approval Workflow](https://app.datarobot.com/docs/mlops/governance/dep-admin.html) enabled, the output will include a column called `DEPLOYMENT_APPROVAL_STATUS`. For this activity, you can disregard those values."
      ]
    },
    {
      "cell_type": "code",
      "metadata": {
        "id": "Uws_Ac6yKtUo"
      },
      "source": [
        "# On Mac/Linux\n",
        "!cat ./winequality-white-predictions.csv\n",
        "# On Windows (uncomment the following line and comment the previous one)\n",
        "# !type winequality-white-predictions.csv"
      ],
      "execution_count": null,
      "outputs": []
    },
    {
      "cell_type": "markdown",
      "metadata": {
        "id": "V6KE8e4mKtUp"
      },
      "source": [
        "### Request realtime predictions"
      ]
    },
    {
      "cell_type": "markdown",
      "metadata": {
        "id": "blSQyiblKtUq"
      },
      "source": [
        "Realtime predictions in DataRobot use a [REST API](https://app.datarobot.com/docs/predictions/api/dr-predapi.html) rather than the Python Client API you've been using so far. Like any REST API, using the DataRobot Predictions API consists of making HTTP _requests_ to which the API server sends _responses_.\n",
        "\n",
        "In this activity, you'll be using accessing the API using the standard Python `requests` package. However, the API can be used by any language or system that supports REST APIs, such as the Linux `curl` command."
      ]
    },
    {
      "cell_type": "markdown",
      "metadata": {
        "id": "wVaXirtSKtUq"
      },
      "source": [
        "Define the URL of the prediction server, based on the hostname of the prediction server for your model's deployment and the deployment ID. This is the server you will send prediction requests to below."
      ]
    },
    {
      "cell_type": "code",
      "metadata": {
        "ExecuteTime": {
          "end_time": "2021-07-29T18:05:26.908086Z",
          "start_time": "2021-07-29T18:05:26.903667Z"
        },
        "id": "Lc8MlEUMKtUq",
        "colab": {
          "base_uri": "https://localhost:8080/",
          "height": 35
        },
        "outputId": "9aac6702-3003-46de-8197-75c6abef7ddf"
      },
      "source": [
        "predictionServer = deployment.default_prediction_server['url']\n",
        "\n",
        "predictionUrl = f'{predictionServer}/predApi/v1.0/deployments/{deployment.id}/predictions'\n",
        "predictionUrl"
      ],
      "execution_count": 21,
      "outputs": [
        {
          "output_type": "execute_result",
          "data": {
            "application/vnd.google.colaboratory.intrinsic+json": {
              "type": "string"
            },
            "text/plain": [
              "'https://app2.datarobot.com/predApi/v1.0/deployments/61950cba667c1dacfd41e7f0/predictions'"
            ]
          },
          "metadata": {},
          "execution_count": 21
        }
      ]
    },
    {
      "cell_type": "markdown",
      "metadata": {
        "id": "6RfAN5rZKtUq"
      },
      "source": [
        "Read the batch of data to score into a binary string."
      ]
    },
    {
      "cell_type": "code",
      "metadata": {
        "ExecuteTime": {
          "end_time": "2021-07-29T18:16:25.983080Z",
          "start_time": "2021-07-29T18:16:25.977635Z"
        },
        "id": "yel9PZs1KtUq"
      },
      "source": [
        "dataToScore = open('winequality-white-score.csv', 'rb').read()"
      ],
      "execution_count": 23,
      "outputs": []
    },
    {
      "cell_type": "markdown",
      "metadata": {
        "id": "sK1NtmZ3KtUr"
      },
      "source": [
        "Set up the credentials to access the server. These are the same credentials you used at the beginning of the activity when you created the DataRobot Python API client. However, real-time predictions don't the Python Client API; the API access token needs to be set as part of the HTTP request you will use to request predictions. You can pull the token value out of the same `drconfig.yaml` file you edited earlier."
      ]
    },
    {
      "cell_type": "code",
      "metadata": {
        "ExecuteTime": {
          "end_time": "2021-07-29T18:16:28.173593Z",
          "start_time": "2021-07-29T18:16:28.166426Z"
        },
        "id": "Vd8-lIyJKtUr"
      },
      "source": [
        "import yaml \n",
        "stream = open('drconfig.yaml', 'r')\n",
        "drconfig = yaml.load(stream, Loader=yaml.Loader)\n",
        "drtoken = drconfig['token']"
      ],
      "execution_count": 25,
      "outputs": []
    },
    {
      "cell_type": "markdown",
      "metadata": {
        "id": "5PzJEY0yKtUr"
      },
      "source": [
        "Next use the Python `requests` package to construct a request to send (post) to the prediction server. Note that the settings in the headers depends on whether you have a trial or pay-as-you-go account, or a Managed AI or self-managed system. \n",
        "\n",
        "Managed AI and self-managed systems require a separate access key for the prediction server than used for the modeling server:"
      ]
    },
    {
      "cell_type": "code",
      "metadata": {
        "ExecuteTime": {
          "end_time": "2021-07-29T18:18:21.761081Z",
          "start_time": "2021-07-29T18:18:20.759728Z"
        },
        "id": "DQIkpI8YKtUs"
      },
      "source": [
        "import requests\n",
        "\n",
        "# construct a header for the request to include the content type (text)\n",
        "# and access token and for managed cloud and self-managed installations\n",
        "# including the prediction server key.\n",
        "predictionRequestHeaders = {\n",
        "    'Content-Type': 'text/plain; charset=UTF-8', \n",
        "    'Authorization': f'Bearer {drtoken}',\n",
        "    'datarobot-key': deployment.default_prediction_server['datarobot-key']}"
      ],
      "execution_count": null,
      "outputs": []
    },
    {
      "cell_type": "markdown",
      "metadata": {
        "id": "eVfDP6cdKtUs"
      },
      "source": [
        "If you are using a trial or pay-as-you-go account, you don't need to specify a key:"
      ]
    },
    {
      "cell_type": "code",
      "metadata": {
        "ExecuteTime": {
          "end_time": "2021-07-29T18:18:21.761081Z",
          "start_time": "2021-07-29T18:18:20.759728Z"
        },
        "id": "9QS-trksKtUs"
      },
      "source": [
        "import requests\n",
        "\n",
        "# construct a header for the request to include the content type (text)\n",
        "# and access token and (for managed cloud and self-managed installations)\n",
        "# the prediction server key\n",
        "predictionRequestHeaders = {\n",
        "    'Content-Type': 'text/plain; charset=UTF-8', \n",
        "    'Authorization': f'Bearer {drtoken}'\n",
        "}"
      ],
      "execution_count": 27,
      "outputs": []
    },
    {
      "cell_type": "markdown",
      "metadata": {
        "id": "0WFwCRPcKtUs"
      },
      "source": [
        "Use the header you created above and the server URL you set up earlier to make a predictions request."
      ]
    },
    {
      "cell_type": "code",
      "metadata": {
        "ExecuteTime": {
          "end_time": "2021-07-29T18:18:21.761081Z",
          "start_time": "2021-07-29T18:18:20.759728Z"
        },
        "id": "aIE3f9f6KtUs"
      },
      "source": [
        "# construct and send the request using the prediction server URL, \n",
        "# the binary string containing the data to score, and the header\n",
        "# values you set above.\n",
        "predictionsResponse = requests.post(\n",
        "        predictionUrl,\n",
        "        data=dataToScore,\n",
        "        headers=predictionRequestHeaders\n",
        ")"
      ],
      "execution_count": 28,
      "outputs": []
    },
    {
      "cell_type": "markdown",
      "metadata": {
        "id": "15QxzLeYKtUt"
      },
      "source": [
        "The server will send a response which includes an response status code and the predictions (if the operation was successful). A status code of 200 means the request was completed successfully. For details about the other error codes, see the [Prediction API Reference](https://app.datarobot.com/docs/predictions/predapi/index.html) docs."
      ]
    },
    {
      "cell_type": "code",
      "metadata": {
        "ExecuteTime": {
          "end_time": "2021-07-29T18:18:23.800805Z",
          "start_time": "2021-07-29T18:18:23.792807Z"
        },
        "id": "xxdR6MK6KtUt",
        "colab": {
          "base_uri": "https://localhost:8080/"
        },
        "outputId": "e6eb4024-fdc1-45eb-e567-121417b36b2f"
      },
      "source": [
        "predictionsResponse.status_code"
      ],
      "execution_count": 29,
      "outputs": [
        {
          "output_type": "execute_result",
          "data": {
            "text/plain": [
              "200"
            ]
          },
          "metadata": {},
          "execution_count": 29
        }
      ]
    },
    {
      "cell_type": "markdown",
      "metadata": {
        "id": "Pbqg617cKtUu"
      },
      "source": [
        "Display the returned predictions. If the request was not successful, this will display additional information about the error."
      ]
    },
    {
      "cell_type": "code",
      "metadata": {
        "id": "iDU6T7NeKtUu",
        "colab": {
          "base_uri": "https://localhost:8080/"
        },
        "outputId": "3893f43a-876e-4941-8610-98d40ed3a3e6"
      },
      "source": [
        "predictionsResponse.json()"
      ],
      "execution_count": 30,
      "outputs": [
        {
          "output_type": "execute_result",
          "data": {
            "text/plain": [
              "{'data': [{'deploymentApprovalStatus': 'APPROVED',\n",
              "   'prediction': 6.213347619,\n",
              "   'predictionValues': [{'label': 'quality', 'value': 6.213347619}],\n",
              "   'rowId': 0},\n",
              "  {'deploymentApprovalStatus': 'APPROVED',\n",
              "   'prediction': 6.5103365079,\n",
              "   'predictionValues': [{'label': 'quality', 'value': 6.5103365079}],\n",
              "   'rowId': 1},\n",
              "  {'deploymentApprovalStatus': 'APPROVED',\n",
              "   'prediction': 5.6953134921,\n",
              "   'predictionValues': [{'label': 'quality', 'value': 5.6953134921}],\n",
              "   'rowId': 2},\n",
              "  {'deploymentApprovalStatus': 'APPROVED',\n",
              "   'prediction': 6.468334127,\n",
              "   'predictionValues': [{'label': 'quality', 'value': 6.468334127}],\n",
              "   'rowId': 3},\n",
              "  {'deploymentApprovalStatus': 'APPROVED',\n",
              "   'prediction': 5.8119634921,\n",
              "   'predictionValues': [{'label': 'quality', 'value': 5.8119634921}],\n",
              "   'rowId': 4},\n",
              "  {'deploymentApprovalStatus': 'APPROVED',\n",
              "   'prediction': 5.5977793651,\n",
              "   'predictionValues': [{'label': 'quality', 'value': 5.5977793651}],\n",
              "   'rowId': 5},\n",
              "  {'deploymentApprovalStatus': 'APPROVED',\n",
              "   'prediction': 6.5352031746,\n",
              "   'predictionValues': [{'label': 'quality', 'value': 6.5352031746}],\n",
              "   'rowId': 6},\n",
              "  {'deploymentApprovalStatus': 'APPROVED',\n",
              "   'prediction': 4.8166571429,\n",
              "   'predictionValues': [{'label': 'quality', 'value': 4.8166571429}],\n",
              "   'rowId': 7},\n",
              "  {'deploymentApprovalStatus': 'APPROVED',\n",
              "   'prediction': 4.6671412698,\n",
              "   'predictionValues': [{'label': 'quality', 'value': 4.6671412698}],\n",
              "   'rowId': 8},\n",
              "  {'deploymentApprovalStatus': 'APPROVED',\n",
              "   'prediction': 5.3189920635,\n",
              "   'predictionValues': [{'label': 'quality', 'value': 5.3189920635}],\n",
              "   'rowId': 9}]}"
            ]
          },
          "metadata": {},
          "execution_count": 30
        }
      ]
    },
    {
      "cell_type": "markdown",
      "metadata": {
        "id": "5osFIHGfKtUu"
      },
      "source": [
        "The data in the response should include a JSON record for each record in the scoring dataset. Each record will include the predicted value for wine quality as well as the index (row number) of the corresponding row in the scoring data file."
      ]
    },
    {
      "cell_type": "code",
      "metadata": {
        "id": "zlI4koRDKtUv"
      },
      "source": [
        ""
      ],
      "execution_count": null,
      "outputs": []
    }
  ]
}

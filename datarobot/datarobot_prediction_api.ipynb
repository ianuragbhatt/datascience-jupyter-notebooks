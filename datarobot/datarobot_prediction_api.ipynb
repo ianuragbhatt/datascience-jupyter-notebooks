{
  "nbformat": 4,
  "nbformat_minor": 0,
  "metadata": {
    "colab": {
      "name": "datarobot_prediction_api.ipynb",
      "provenance": []
    },
    "kernelspec": {
      "name": "python3",
      "display_name": "Python 3"
    },
    "language_info": {
      "name": "python"
    }
  },
  "cells": [
    {
      "cell_type": "markdown",
      "metadata": {
        "id": "bn-XJGVksPkP"
      },
      "source": [
        "### Prediction API\n",
        "* **Warning** : Make sure you are using the dedicated Predictions API. A quick way to tell is by looking at the request URL. If the route begins with /predApi, it's the correct one.  If it starts with /api, that's the general DataRobot platform API, which should not be used for predictions in a production application."
      ]
    },
    {
      "cell_type": "code",
      "metadata": {
        "colab": {
          "base_uri": "https://localhost:8080/"
        },
        "id": "waWmj6b62Wko",
        "outputId": "58f6c83e-74ad-4840-a0a7-6d86ee81fab8"
      },
      "source": [
        "import sys\n",
        "import json\n",
        "import requests\n",
        "\n",
        "# paste deployment id in api url\n",
        "API_URL = '<API URL>'\n",
        "API_KEY = '<YOUR API KEY>'\n",
        " \n",
        "headers = {\n",
        "        'Content-Type': 'application/json',\n",
        "        'Authorization': 'Bearer {}'.format(API_KEY),\n",
        "    }\n",
        "\n",
        "data = [{\"enrollee_id\":32403,\n",
        "  \"city\":\"city_41\",\n",
        "  \"city_development_index\":0.827,\n",
        "  \"gender\":\"Male\",\n",
        "  \"relevent_experience\":\"Has relevent experience\",\n",
        "  \"enrolled_university\":\"Full time course\",\n",
        "  \"education_level\":\"Graduate\",\n",
        "  \"major_discipline\":\"STEM\",\n",
        "  \"experience\":9,\n",
        "  \"company_size\":\"<10\",\n",
        "  \"company_type\":\"\",\n",
        "  \"last_new_job\":1,\n",
        "  \"training_hours\":21}]\n",
        "\n",
        "\n",
        "predictions_response = requests.post(\n",
        "    API_URL,\n",
        "    data=json.dumps(data),\n",
        "    headers=headers,\n",
        ") \n",
        "print(predictions_response.json())"
      ],
      "execution_count": null,
      "outputs": [
        {
          "output_type": "stream",
          "name": "stdout",
          "text": [
            "{'data': [{'predictionValues': [{'value': 0.1702807205, 'label': 1.0}, {'value': 0.8297192795, 'label': 0.0}], 'deploymentApprovalStatus': 'APPROVED', 'predictionThreshold': 0.5, 'prediction': 0.0, 'rowId': 0}]}\n"
          ]
        }
      ]
    },
    {
      "cell_type": "code",
      "metadata": {
        "id": "Ctoa-wFisNKB"
      },
      "source": [
        "\"\"\"\n",
        "Usage:\n",
        "    python datarobot-predict.py <input-file.csv>\n",
        " \n",
        "This example uses the requests library which you can install with:\n",
        "    pip install requests\n",
        "We highly recommend that you update SSL certificates with:\n",
        "    pip install -U urllib3[secure] certifi\n",
        "\"\"\"\n",
        "import sys\n",
        "import json\n",
        "import requests\n",
        " \n",
        "# paste deployment id in api url\n",
        "API_URL = '<API URL>'\n",
        "API_KEY = '<YOUR API KEY>'\n",
        " \n",
        "DEPLOYMENT_ID = '<DEPLOYMENT ID>'\n",
        " \n",
        "# Don't change this. It is enforced server-side too.\n",
        "MAX_PREDICTION_FILE_SIZE_BYTES = 52428800  # 50 MB\n",
        " \n",
        " \n",
        "class DataRobotPredictionError(Exception):\n",
        "    \"\"\"Raised if there are issues getting predictions from DataRobot\"\"\"\n",
        " \n",
        " \n",
        "def make_datarobot_deployment_predictions(data, deployment_id):\n",
        "    \"\"\"\n",
        "    Make predictions on data provided using DataRobot deployment_id provided.\n",
        "    See docs for details:\n",
        "         https://app2.datarobot.com/docs/predictions/api/dr-predapi.html\n",
        " \n",
        "    Parameters\n",
        "    ----------\n",
        "    data : str\n",
        "        If using CSV as input:\n",
        "        Feature1,Feature2\n",
        "        numeric_value,string\n",
        " \n",
        "        Or if using JSON as input:\n",
        "        [{\"Feature1\":numeric_value,\"Feature2\":\"string\"}]\n",
        " \n",
        "    deployment_id : str\n",
        "        The ID of the deployment to make predictions with.\n",
        " \n",
        "    Returns\n",
        "    -------\n",
        "    Response schema:\n",
        "        https://app2.datarobot.com/docs/predictions/api/dr-predapi.html#response-schema\n",
        " \n",
        "    Raises\n",
        "    ------\n",
        "    DataRobotPredictionError if there are issues getting predictions from DataRobot\n",
        "    \"\"\"\n",
        "    # Set HTTP headers. The charset should match the contents of the file.\n",
        "    headers = {\n",
        "        # As default, we expect CSV as input data.\n",
        "        # Should you wish to supply JSON instead,\n",
        "        # comment out the line below and use the line after that instead:\n",
        "        'Content-Type': 'text/plain; charset=UTF-8',\n",
        "        # 'Content-Type': 'application/json; charset=UTF-8',\n",
        " \n",
        "        'Authorization': 'Bearer {}'.format(API_KEY),\n",
        "    }\n",
        " \n",
        "    url = API_URL.format(deployment_id=deployment_id)\n",
        " \n",
        "    # Prediction Explanations:\n",
        "    # See the documentation for more information:\n",
        "    # https://app2.datarobot.com/docs/predictions/api/dr-predapi.html#request-pred-explanations\n",
        "    # Should you wish to include Prediction Explanations or Prediction Warnings in the result,\n",
        "    # Change the parameters below accordingly, and remove the comment from the params field below:\n",
        " \n",
        "    params = {\n",
        "        # If explanations are required, uncomment the line below\n",
        "        # 'maxExplanations': 3,\n",
        "        # 'thresholdHigh': 0.5,\n",
        "        # 'thresholdLow': 0.15,\n",
        "        # Uncomment this for Prediction Warnings, if enabled for your deployment.\n",
        "        # 'predictionWarningEnabled': 'true',\n",
        "    }\n",
        "    # Make API request for predictions\n",
        "    predictions_response = requests.post(\n",
        "        url,\n",
        "        data=data,\n",
        "        headers=headers,\n",
        "        # Prediction Explanations:\n",
        "        # Uncomment this to include explanations in your prediction\n",
        "        # params=params,\n",
        "    )\n",
        "    _raise_dataroboterror_for_status(predictions_response)\n",
        "    # Return a Python dict following the schema in the documentation\n",
        "    return predictions_response.json()\n",
        " \n",
        " \n",
        "def _raise_dataroboterror_for_status(response):\n",
        "    \"\"\"Raise DataRobotPredictionError if the request fails along with the response returned\"\"\"\n",
        "    try:\n",
        "        response.raise_for_status()\n",
        "    except requests.exceptions.HTTPError:\n",
        "        err_msg = '{code} Error: {msg}'.format(\n",
        "            code=response.status_code, msg=response.text)\n",
        "        raise DataRobotPredictionError(err_msg)\n",
        " \n",
        " \n",
        "def main(filename, deployment_id):\n",
        "    \"\"\"\n",
        "    Return an exit code on script completion or error. Codes > 0 are errors to the shell.\n",
        "    Also useful as a usage demonstration of\n",
        "    `make_datarobot_deployment_predictions(data, deployment_id)`\n",
        "    \"\"\"\n",
        "    if not filename:\n",
        "        print(\n",
        "            'Input file is required argument. '\n",
        "            'Usage: python datarobot-predict.py <input-file.csv>')\n",
        "        return 1\n",
        "    data = open(filename, 'rb').read()\n",
        "    data_size = sys.getsizeof(data)\n",
        "    if data_size >= MAX_PREDICTION_FILE_SIZE_BYTES:\n",
        "        print((\n",
        "            'Input file is too large: {} bytes. '\n",
        "            'Max allowed size is: {} bytes.'\n",
        "        ).format(data_size, MAX_PREDICTION_FILE_SIZE_BYTES))\n",
        "        return 1\n",
        "    try:\n",
        "        predictions = make_datarobot_deployment_predictions(data, deployment_id)\n",
        "    except DataRobotPredictionError as exc:\n",
        "        print(exc)\n",
        "        return 1\n",
        "    print(json.dumps(predictions, indent=4))\n",
        "    return 0"
      ],
      "execution_count": null,
      "outputs": []
    },
    {
      "cell_type": "code",
      "metadata": {
        "id": "ntX4zgUZzr7z"
      },
      "source": [
        "filename = '/content/hr-analytics-test.csv'\n",
        "main(filename, DEPLOYMENT_ID)"
      ],
      "execution_count": null,
      "outputs": []
    },
    {
      "cell_type": "code",
      "metadata": {
        "id": "x8Lz3UOs11HV"
      },
      "source": [
        ""
      ],
      "execution_count": null,
      "outputs": []
    }
  ]
}